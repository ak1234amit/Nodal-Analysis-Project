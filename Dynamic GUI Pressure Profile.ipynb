{
 "cells": [
  {
   "cell_type": "code",
   "execution_count": 1,
   "id": "346a9213",
   "metadata": {},
   "outputs": [],
   "source": [
    "import numpy as np\n",
    "import pandas as pd\n",
    "import matplotlib.pyplot as plt\n",
    "from ipywidgets import interact, interactive\n",
    "from IPython.display import display"
   ]
  },
  {
   "cell_type": "code",
   "execution_count": 24,
   "id": "7dc3f0b3",
   "metadata": {},
   "outputs": [],
   "source": [
    "def flowprofile(k,mu,q):\n",
    "    \n",
    "    re=3000\n",
    "    rw=0.5\n",
    "    pe=4000\n",
    "    B=1\n",
    "    h=30\n",
    "    r=np.linspace(rw,re,500)\n",
    "    P=pe-(141.2*q*mu*B*(np.log(re/r))/k/h)\n",
    "    y_min = P[np.where(r==rw)]\n",
    "    plt.style.use(\"classic\")\n",
    "    plt.plot(r,P,linewidth=4)\n",
    "    plt.axhline(y_min,linewidth=3,color='red')\n",
    "    plt.ylim(0,5000)\n",
    "    plt.xlabel('r(ft)')\n",
    "    plt.ylabel('P(r),psi')\n",
    "    plt.title('Dynamic Pressure Profile')\n",
    "    plt.grid(True)\n",
    "    return r,P"
   ]
  },
  {
   "cell_type": "code",
   "execution_count": 26,
   "id": "94a67a42",
   "metadata": {},
   "outputs": [],
   "source": [
    "w=interactive(flowprofile,k=(200,1000),mu=(10,220),q=(100,200))"
   ]
  },
  {
   "cell_type": "code",
   "execution_count": 27,
   "id": "4701f3c8",
   "metadata": {},
   "outputs": [
    {
     "data": {
      "application/vnd.jupyter.widget-view+json": {
       "model_id": "3360dddfb25249db8a9a065eb90f4d0f",
       "version_major": 2,
       "version_minor": 0
      },
      "text/plain": [
       "interactive(children=(IntSlider(value=374, description='k', max=1000, min=200), IntSlider(value=115, descripti…"
      ]
     },
     "metadata": {},
     "output_type": "display_data"
    }
   ],
   "source": [
    "display(w)"
   ]
  },
  {
   "cell_type": "code",
   "execution_count": null,
   "id": "09816842",
   "metadata": {},
   "outputs": [],
   "source": []
  },
  {
   "cell_type": "code",
   "execution_count": null,
   "id": "1ebe6f04",
   "metadata": {},
   "outputs": [],
   "source": []
  }
 ],
 "metadata": {
  "kernelspec": {
   "display_name": "Python 3 (ipykernel)",
   "language": "python",
   "name": "python3"
  },
  "language_info": {
   "codemirror_mode": {
    "name": "ipython",
    "version": 3
   },
   "file_extension": ".py",
   "mimetype": "text/x-python",
   "name": "python",
   "nbconvert_exporter": "python",
   "pygments_lexer": "ipython3",
   "version": "3.11.4"
  }
 },
 "nbformat": 4,
 "nbformat_minor": 5
}
